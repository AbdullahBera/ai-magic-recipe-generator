{
 "cells": [
  {
   "cell_type": "code",
   "execution_count": null,
   "metadata": {},
   "outputs": [],
   "source": [
    "import re\n",
    "from nltk.tokenize import sent_tokenize\n",
    "\n",
    "# Define a list of keywords related to food and ingredients\n",
    "food_keywords = [\n",
    "    'food', 'ingredient', 'meal', 'dish', 'recipe', 'spice', 'herb', 'flavor',\n",
    "    'bake', 'cook', 'taste', 'sweet', 'sour', 'salty', 'bitter', 'umami',\n",
    "    'beverage', 'drink', 'snack', 'dessert', 'fruit', 'vegetable', 'grain', 'meat'\n",
    "]\n",
    "\n",
    "# Function to check if a sentence contains any food-related keywords\n",
    "def contains_food_keywords(sentence, keywords):\n",
    "    return any(keyword in sentence.lower() for keyword in keywords)\n",
    "\n",
    "# Load the preprocessed text data\n",
    "with open('harry_potter_preprocessed.txt', 'r') as file:\n",
    "    text = file.read()\n",
    "\n",
    "# Tokenize the text into sentences\n",
    "sentences = sent_tokenize(text)\n",
    "\n",
    "# Filter sentences related to food and ingredients\n",
    "food_related_sentences = [sentence for sentence in sentences if contains_food_keywords(sentence, food_keywords)]\n",
    "\n",
    "# Save the filtered sentences to a new file\n",
    "with open('food_related_sentences.txt', 'w') as file:\n",
    "    for sentence in food_related_sentences:\n",
    "        file.write(sentence + '\\n')\n",
    "\n",
    "print(f'Found {len(food_related_sentences)} food-related sentences.')\n",
    "\n"
   ]
  },
  {
   "cell_type": "code",
   "execution_count": null,
   "metadata": {},
   "outputs": [],
   "source": []
  }
 ],
 "metadata": {
  "language_info": {
   "name": "python"
  }
 },
 "nbformat": 4,
 "nbformat_minor": 2
}
