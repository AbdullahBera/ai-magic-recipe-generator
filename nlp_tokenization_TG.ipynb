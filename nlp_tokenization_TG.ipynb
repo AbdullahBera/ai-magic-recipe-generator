{
 "cells": [
  {
   "cell_type": "code",
   "execution_count": 6,
   "id": "149f5373-9d45-4867-b49c-9b9b3300937e",
   "metadata": {},
   "outputs": [
    {
     "name": "stdout",
     "output_type": "stream",
     "text": [
      "Found 130 ingredient-related sentences.\n"
     ]
    }
   ],
   "source": [
    "import re\n",
    "from nltk.tokenize import sent_tokenize\n",
    "import nltk\n",
    "\n",
    "# Expanded list of keywords related to food, ingredients, potions, spells, and rituals\n",
    "ingredient_keywords = [\n",
    "    'ingredient', 'ingredients', 'potion', 'potion ingredient', 'spell', 'spell ingredient', 'ritual', 'ritual ingredient',\n",
    "    'charm', 'herb', 'herbs', 'root', 'roots', 'flower', 'flowers', 'berry', 'berries', 'powder', 'dust', 'brew', 'extract',\n",
    "    'elixir', 'drink', 'meat', 'fruit', 'vegetable', 'plant', 'fungus', 'fungi', 'mushroom', 'spice', 'concoction', 'potion',\n",
    "    'draught', 'infusion', 'elixir', 'tincture', 'brew', 'decoction', 'philter', 'mixture', 'brew', 'draught', 'powder', \n",
    "    'essence', 'juice', 'blood', 'venom', 'syrup', 'essence', 'tonic', 'salve'\n",
    "]\n",
    "\n",
    "# Function to check if a sentence contains any ingredient-related keywords\n",
    "def contains_ingredient_keywords(sentence, keywords):\n",
    "    return any(re.search(rf'\\b{re.escape(keyword)}\\b', sentence, re.IGNORECASE) for keyword in keywords)\n",
    "\n",
    "# Load the preprocessed text data\n",
    "with open('second_half.txt', 'r') as file:\n",
    "    text = file.read()\n",
    "\n",
    "# Tokenize the text into sentences\n",
    "sentences = sent_tokenize(text)\n",
    "\n",
    "# Filter sentences related to ingredients\n",
    "ingredient_related_sentences = [sentence for sentence in sentences if contains_ingredient_keywords(sentence, ingredient_keywords)]\n",
    "\n",
    "# Save the filtered sentences to a new file\n",
    "with open('ingredient_related_sentences.txt', 'w') as file:\n",
    "    for sentence in ingredient_related_sentences:\n",
    "        file.write(sentence + '\\n')\n",
    "\n",
    "print(f'Found {len(ingredient_related_sentences)} ingredient-related sentences.')\n"
   ]
  },
  {
   "cell_type": "code",
   "execution_count": 1,
   "id": "b46f78c1-63c1-452f-ae25-b305a271cd9b",
   "metadata": {},
   "outputs": [
    {
     "name": "stderr",
     "output_type": "stream",
     "text": [
      "[nltk_data] Downloading package maxent_ne_chunker to\n",
      "[nltk_data]     /Users/wassu/nltk_data...\n",
      "[nltk_data]   Unzipping chunkers/maxent_ne_chunker.zip.\n",
      "[nltk_data] Downloading package words to /Users/wassu/nltk_data...\n",
      "[nltk_data]   Unzipping corpora/words.zip.\n",
      "[nltk_data] Downloading package averaged_perceptron_tagger to\n",
      "[nltk_data]     /Users/wassu/nltk_data...\n",
      "[nltk_data]   Unzipping taggers/averaged_perceptron_tagger.zip.\n"
     ]
    },
    {
     "data": {
      "text/plain": [
       "True"
      ]
     },
     "execution_count": 1,
     "metadata": {},
     "output_type": "execute_result"
    }
   ],
   "source": [
    "import nltk\n",
    "import csv\n",
    "import re\n",
    "from nltk import pos_tag, word_tokenize, ne_chunk\n",
    "from nltk.chunk import tree2conlltags\n",
    "from nltk.tokenize import sent_tokenize\n",
    "\n",
    "nltk.download('maxent_ne_chunker')\n",
    "nltk.download('words')\n",
    "nltk.download('averaged_perceptron_tagger')\n"
   ]
  },
  {
   "cell_type": "code",
   "execution_count": 4,
   "id": "8d3e8606-8ad0-4d91-b222-3336dd3fe753",
   "metadata": {},
   "outputs": [
    {
     "name": "stdout",
     "output_type": "stream",
     "text": [
      "Extracted 130 ingredients and saved to 'ingredients_database.csv'.\n"
     ]
    }
   ],
   "source": [
    "# Load your text file\n",
    "with open('second_half.txt', 'r') as file:\n",
    "    text = file.read()\n",
    "\n",
    "# Tokenize the text into sentences\n",
    "sentences = sent_tokenize(text)\n",
    "\n",
    "ingredient_keywords = [\n",
    "    'ingredient', 'ingredients', 'potion', 'potion ingredient', 'spell', 'spell ingredient', 'ritual', 'ritual ingredient',\n",
    "    'charm', 'herb', 'herbs', 'root', 'roots', 'flower', 'flowers', 'berry', 'berries', 'powder', 'dust', 'brew', 'extract',\n",
    "    'elixir', 'drink', 'meat', 'fruit', 'vegetable', 'plant', 'fungus', 'fungi', 'mushroom', 'spice', 'concoction', 'potion',\n",
    "    'draught', 'infusion', 'elixir', 'tincture', 'brew', 'decoction', 'philter', 'mixture', 'brew', 'draught', 'powder', \n",
    "    'essence', 'juice', 'blood', 'venom', 'syrup', 'essence', 'tonic', 'salve'\n",
    "]\n",
    "\n",
    "# Function to extract potential ingredients from a sentence using POS tagging and NER\n",
    "def extract_ingredients(sentence):\n",
    "    ingredients = []\n",
    "    # Tokenize the sentence into words\n",
    "    words = word_tokenize(sentence)\n",
    "    # Tag the words with their part of speech\n",
    "    pos_tags = pos_tag(words)\n",
    "    # Named Entity Recognition\n",
    "    ner_tree = ne_chunk(pos_tags)\n",
    "    # Convert NER tree to IOB format\n",
    "    iob_tagged = tree2conlltags(ner_tree)\n",
    "    \n",
    "    # Simple noun phrase extraction (can be refined further)\n",
    "    for word, pos, ner in iob_tagged:\n",
    "        if pos in ['NN', 'NNS', 'NNP', 'NNPS'] and ner == 'O':  # Focus on nouns that are not named entities\n",
    "            ingredients.append(word)\n",
    "    \n",
    "    # Additional regex-based extraction for ingredients following certain patterns\n",
    "    additional_ingredients = re.findall(r'\\b(of|with|containing|ingredient|ingredients)\\s([\\w\\s-]+?)(?=[.,;]|and|or|$)', sentence, re.IGNORECASE)\n",
    "    for match in additional_ingredients:\n",
    "        ingredients.extend(match[1].split())  # Split to capture potential multiple-word ingredients\n",
    "    \n",
    "    return ingredients\n",
    "\n",
    "# Initialize a list to hold all ingredient entries for the CSV\n",
    "ingredient_entries = []\n",
    "\n",
    "# Function to check if a sentence contains any ingredient-related keywords\n",
    "def contains_ingredient_keywords(sentence, keywords):\n",
    "    return any(re.search(rf'\\b{re.escape(keyword)}\\b', sentence, re.IGNORECASE) for keyword in keywords)\n",
    "\n",
    "# Extract ingredients from each ingredient-related sentence\n",
    "for i, sentence in enumerate(sentences):\n",
    "    if contains_ingredient_keywords(sentence, ingredient_keywords):  # Reuse the function from your previous code to filter sentences\n",
    "        ingredients = extract_ingredients(sentence)\n",
    "        if ingredients:  # Only add if ingredients were found\n",
    "            # Join ingredients as a single string for this entry\n",
    "            ingredient_entries.append([i + 1, ', '.join(ingredients), sentence])\n",
    "\n",
    "# Write the ingredient entries to a CSV file\n",
    "with open('ingredients_database.csv', 'w', newline='', encoding='utf-8') as file:\n",
    "    writer = csv.writer(file)\n",
    "    # Write the header\n",
    "    writer.writerow(['No.', 'Ingredient', 'Source'])\n",
    "    # Write the ingredient entries\n",
    "    writer.writerows(ingredient_entries)\n",
    "\n",
    "print(f\"Extracted {len(ingredient_entries)} ingredients and saved to 'ingredients_database.csv'.\")\n"
   ]
  },
  {
   "cell_type": "code",
   "execution_count": null,
   "id": "c717e726-a6b7-498b-b313-197b43c89357",
   "metadata": {},
   "outputs": [],
   "source": []
  }
 ],
 "metadata": {
  "kernelspec": {
   "display_name": "Python 3 (ipykernel)",
   "language": "python",
   "name": "python3"
  },
  "language_info": {
   "codemirror_mode": {
    "name": "ipython",
    "version": 3
   },
   "file_extension": ".py",
   "mimetype": "text/x-python",
   "name": "python",
   "nbconvert_exporter": "python",
   "pygments_lexer": "ipython3",
   "version": "3.12.4"
  }
 },
 "nbformat": 4,
 "nbformat_minor": 5
}
