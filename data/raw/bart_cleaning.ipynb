{
 "cells": [
  {
   "cell_type": "code",
   "execution_count": 153,
   "metadata": {},
   "outputs": [],
   "source": [
    "import pandas as pd"
   ]
  },
  {
   "cell_type": "code",
   "execution_count": 154,
   "metadata": {},
   "outputs": [],
   "source": [
    "df = pd.read_csv('magical_recipes_50000.csv').iloc[:,1:]"
   ]
  },
  {
   "cell_type": "code",
   "execution_count": 155,
   "metadata": {},
   "outputs": [
    {
     "data": {
      "text/html": [
       "<div>\n",
       "<style scoped>\n",
       "    .dataframe tbody tr th:only-of-type {\n",
       "        vertical-align: middle;\n",
       "    }\n",
       "\n",
       "    .dataframe tbody tr th {\n",
       "        vertical-align: top;\n",
       "    }\n",
       "\n",
       "    .dataframe thead th {\n",
       "        text-align: right;\n",
       "    }\n",
       "</style>\n",
       "<table border=\"1\" class=\"dataframe\">\n",
       "  <thead>\n",
       "    <tr style=\"text-align: right;\">\n",
       "      <th></th>\n",
       "      <th>Recipe Name</th>\n",
       "      <th>Magical Effect</th>\n",
       "      <th>Magical Ingredients</th>\n",
       "      <th>Required Spells</th>\n",
       "      <th>Cooking Steps</th>\n",
       "      <th>Special Notes</th>\n",
       "    </tr>\n",
       "  </thead>\n",
       "  <tbody>\n",
       "    <tr>\n",
       "      <th>0</th>\n",
       "      <td>Elixir of Mystique</td>\n",
       "      <td>Changed the colour of the drinker's hair</td>\n",
       "      <td>[\"rice\", \"sugar\", \"milk\", \"raisins\", \"nutmeg\",...</td>\n",
       "      <td>Unbreakable Vow, Sonorus</td>\n",
       "      <td>['[ Cast Unbreakable Vow to ensure proper mixi...</td>\n",
       "      <td>Handle Hate Potion with care. Potency increase...</td>\n",
       "    </tr>\n",
       "    <tr>\n",
       "      <th>1</th>\n",
       "      <td>Potion of Shadows</td>\n",
       "      <td>Supposedly cleaned, but actually spawned mould...</td>\n",
       "      <td>[\"ground beef\", \"oleo\", \"onion\", \"pepper\", \"to...</td>\n",
       "      <td>Oppugno, Furnunculus Curse</td>\n",
       "      <td>['[ Cast Furnunculus Curse to ensure proper mi...</td>\n",
       "      <td>Handle Anti-Paralysis Potion with care. Potenc...</td>\n",
       "    </tr>\n",
       "    <tr>\n",
       "      <th>2</th>\n",
       "      <td>Draught of Eternity</td>\n",
       "      <td>Relieved and/or cured cold symptoms</td>\n",
       "      <td>[\"sugar\", \"shortening\", \"eggs\", \"flour\", \"soda...</td>\n",
       "      <td>Incarcerous, Evanesco</td>\n",
       "      <td>['[ Cast Incarcerous to ensure proper mixing.'...</td>\n",
       "      <td>Handle Dragon Poison with care. Potency increa...</td>\n",
       "    </tr>\n",
       "    <tr>\n",
       "      <th>3</th>\n",
       "      <td>Concoction of the Phoenix</td>\n",
       "      <td>Healed bruises in an hour</td>\n",
       "      <td>[\"thin spaghetti\", \"onions\", \"fresh mushrooms\"...</td>\n",
       "      <td>Evanesco, Legilimens</td>\n",
       "      <td>['[ Cast Evanesco to ensure proper mixing.', '...</td>\n",
       "      <td>Handle Dragon Tonic with care. Potency increas...</td>\n",
       "    </tr>\n",
       "    <tr>\n",
       "      <th>4</th>\n",
       "      <td>Draught of Vitality</td>\n",
       "      <td>Mental instability</td>\n",
       "      <td>[\"onion\", \"butter\", \"corn bread\", \"sour cream\"...</td>\n",
       "      <td>Piertotum Locomotor, Crinus Muto</td>\n",
       "      <td>['[ Cast Crinus Muto to ensure proper mixing.'...</td>\n",
       "      <td>Handle Invigoration Draught with care. Potency...</td>\n",
       "    </tr>\n",
       "  </tbody>\n",
       "</table>\n",
       "</div>"
      ],
      "text/plain": [
       "                 Recipe Name  \\\n",
       "0         Elixir of Mystique   \n",
       "1          Potion of Shadows   \n",
       "2        Draught of Eternity   \n",
       "3  Concoction of the Phoenix   \n",
       "4        Draught of Vitality   \n",
       "\n",
       "                                      Magical Effect  \\\n",
       "0           Changed the colour of the drinker's hair   \n",
       "1  Supposedly cleaned, but actually spawned mould...   \n",
       "2                Relieved and/or cured cold symptoms   \n",
       "3                          Healed bruises in an hour   \n",
       "4                                 Mental instability   \n",
       "\n",
       "                                 Magical Ingredients  \\\n",
       "0  [\"rice\", \"sugar\", \"milk\", \"raisins\", \"nutmeg\",...   \n",
       "1  [\"ground beef\", \"oleo\", \"onion\", \"pepper\", \"to...   \n",
       "2  [\"sugar\", \"shortening\", \"eggs\", \"flour\", \"soda...   \n",
       "3  [\"thin spaghetti\", \"onions\", \"fresh mushrooms\"...   \n",
       "4  [\"onion\", \"butter\", \"corn bread\", \"sour cream\"...   \n",
       "\n",
       "                    Required Spells  \\\n",
       "0          Unbreakable Vow, Sonorus   \n",
       "1        Oppugno, Furnunculus Curse   \n",
       "2             Incarcerous, Evanesco   \n",
       "3              Evanesco, Legilimens   \n",
       "4  Piertotum Locomotor, Crinus Muto   \n",
       "\n",
       "                                       Cooking Steps  \\\n",
       "0  ['[ Cast Unbreakable Vow to ensure proper mixi...   \n",
       "1  ['[ Cast Furnunculus Curse to ensure proper mi...   \n",
       "2  ['[ Cast Incarcerous to ensure proper mixing.'...   \n",
       "3  ['[ Cast Evanesco to ensure proper mixing.', '...   \n",
       "4  ['[ Cast Crinus Muto to ensure proper mixing.'...   \n",
       "\n",
       "                                       Special Notes  \n",
       "0  Handle Hate Potion with care. Potency increase...  \n",
       "1  Handle Anti-Paralysis Potion with care. Potenc...  \n",
       "2  Handle Dragon Poison with care. Potency increa...  \n",
       "3  Handle Dragon Tonic with care. Potency increas...  \n",
       "4  Handle Invigoration Draught with care. Potency...  "
      ]
     },
     "execution_count": 155,
     "metadata": {},
     "output_type": "execute_result"
    }
   ],
   "source": [
    "df.head()"
   ]
  },
  {
   "cell_type": "markdown",
   "metadata": {},
   "source": [
    "# Create Input"
   ]
  },
  {
   "cell_type": "code",
   "execution_count": 156,
   "metadata": {},
   "outputs": [],
   "source": [
    "input = df['Magical Effect']"
   ]
  },
  {
   "cell_type": "markdown",
   "metadata": {},
   "source": [
    "Input: Create a magic recipe for invisibility.\n",
    "Output: Phantom Fizz Elixir | Ingredients: 3 drops of chameleon blood, 1 pinch of powdered Demiguise hair, 2 moonstone shavings, 1 sprig of ghostly mint, 500ml carbonated water from a hidden spring | Steps: 1. In a silver cauldron, mix chameleon blood and Demiguise hair under a new moon. 2. Slowly stir in moonstone shavings, rotating wand counterclockwise 7 times. 3. Add ghostly mint and let simmer for 3 minutes. 4. Remove from heat and add carbonated water, causing a misty fizz. 5. Bottle immediately in clear glass vials. | Notes: Effects last for 30 minutes per dose. Tastes like minty clouds."
   ]
  },
  {
   "cell_type": "markdown",
   "metadata": {},
   "source": [
    "## Create Notes"
   ]
  },
  {
   "cell_type": "code",
   "execution_count": 157,
   "metadata": {},
   "outputs": [],
   "source": [
    "notes = df['Special Notes']\n",
    "notes = \"Notes: \" + notes"
   ]
  },
  {
   "cell_type": "markdown",
   "metadata": {},
   "source": [
    "## Create Ingredients"
   ]
  },
  {
   "cell_type": "code",
   "execution_count": 158,
   "metadata": {},
   "outputs": [
    {
     "data": {
      "text/plain": [
       "0    Ingredients: rice, sugar, milk, raisins, nutme...\n",
       "1    Ingredients: ground beef, oleo, onion, pepper,...\n",
       "2    Ingredients: sugar, shortening, eggs, flour, s...\n",
       "3    Ingredients: thin spaghetti, onions, fresh mus...\n",
       "4    Ingredients: onion, butter, corn bread, sour c...\n",
       "Name: Magical Ingredients, dtype: object"
      ]
     },
     "execution_count": 158,
     "metadata": {},
     "output_type": "execute_result"
    }
   ],
   "source": [
    "import pandas as pd\n",
    "import re\n",
    "\n",
    "# Example Series\n",
    "ingredients = df['Magical Ingredients']\n",
    "\n",
    "# Define a function to clean each string\n",
    "def clean_string(s):\n",
    "    # Remove the bracket ']' and keep the part after it\n",
    "    cleaned_string = re.sub(r'\\]', '', s)\n",
    "    cleaned_string = re.sub(r'\\[', '', cleaned_string)\n",
    "    # Split by comma and clean spaces/quotes\n",
    "    items = [item.strip().strip('\"') for item in cleaned_string.split(',')]\n",
    "    # Join the cleaned items back into a single string\n",
    "    combined_string = ', '.join(items)\n",
    "    return combined_string\n",
    "\n",
    "# Apply the function to each element in the Series\n",
    "ingredients = ingredients.apply(clean_string)\n",
    "ingredients = \"Ingredients: \" + ingredients\n",
    "ingredients.head()\n"
   ]
  },
  {
   "cell_type": "markdown",
   "metadata": {},
   "source": [
    "## Create Steps"
   ]
  },
  {
   "cell_type": "code",
   "execution_count": 159,
   "metadata": {},
   "outputs": [
    {
     "data": {
      "text/plain": [
       "'1. In a bowl mix marinade ingredients (ginger - peanut oil) together. 2. Then cast Aguamenti to complete this step. 3. Cut the chicken into slices (1/2 inch wide) and then cut these into strips (1/2 inch wide). 4. Thread the chicken on the (soaked) skewers. 5. Place skewered chicken on a plate of marinating dish and pour marinade over. 6. Let marinate for 30 minutes while preparing grill. 7. Drain marinade into saucepan bring to a boil and then simmer stirring for 15 minutes. 8. Grill satays until cooked through. 9. Serve with hot marinade and dipping sauce. 10. To make dipping sauce: Using a spice mill or with mortar and pestle work the garlic sugar and chili to a paste. 11. Stir in chopped lime (including the peel) and collected juices. 12. Puree again. 13. Stir in fish sauce and 1/2 cup of water to get righ consistency (may need more water). 14. Set aside'"
      ]
     },
     "execution_count": 159,
     "metadata": {},
     "output_type": "execute_result"
    }
   ],
   "source": [
    "steps = df['Cooking Steps']\n",
    "first = steps[5000]\n",
    "first = first.strip('[\\'').strip('\\']').strip()\n",
    "first = re.sub(r'[\\]\\\\\\',\\\"]', '', first)\n",
    "first = re.sub(\"\\(see below\\)\", \"\", first)\n",
    "first = first.split('. ')\n",
    "first = list(pd.Series(first).str.strip('.').str.strip())\n",
    "def remove_duplicates(step_list):\n",
    "    unique_steps = []\n",
    "    for step in step_list:\n",
    "        if step not in unique_steps:\n",
    "            unique_steps.append(step)\n",
    "    return unique_steps\n",
    "first = remove_duplicates(first)\n",
    "first = [f'{i+1}. ' + step for i, step in enumerate(first)]\n",
    "final = \". \".join(first)\n",
    "final\n",
    "\n"
   ]
  },
  {
   "cell_type": "code",
   "execution_count": 160,
   "metadata": {},
   "outputs": [],
   "source": [
    "def clean_steps(first):\n",
    "    first = first.strip('[\\'').strip('\\']').strip()\n",
    "    first = re.sub(r'[\\]\\\\\\',\\\"]', '', first)\n",
    "    first = re.sub(r\"\\(see below\\)\", \"\", first)\n",
    "    \n",
    "    first = first.split('. ')\n",
    "    first = list(pd.Series(first).str.strip('.').str.strip())\n",
    "    def remove_duplicates(step_list):\n",
    "        unique_steps = []\n",
    "        for step in step_list:\n",
    "            if step not in unique_steps:\n",
    "                unique_steps.append(step)\n",
    "        return unique_steps\n",
    "    first = remove_duplicates(first)\n",
    "    first = [f'{i+1}. ' + step for i, step in enumerate(first)]\n",
    "    final = \". \".join(first)\n",
    "    return 'Steps: ' + final\n",
    "\n",
    "data = df['Cooking Steps']\n",
    "steps = data.apply(clean_steps)"
   ]
  },
  {
   "cell_type": "markdown",
   "metadata": {},
   "source": [
    "## Create Name"
   ]
  },
  {
   "cell_type": "code",
   "execution_count": 161,
   "metadata": {},
   "outputs": [],
   "source": [
    "name = df['Recipe Name']"
   ]
  },
  {
   "cell_type": "markdown",
   "metadata": {},
   "source": [
    "## Create Output"
   ]
  },
  {
   "cell_type": "code",
   "execution_count": 163,
   "metadata": {},
   "outputs": [],
   "source": [
    "output = name + \" | \" + ingredients + \" | \" + steps + \" | \" + notes"
   ]
  },
  {
   "cell_type": "markdown",
   "metadata": {},
   "source": [
    "## Create new Data Frame"
   ]
  },
  {
   "cell_type": "code",
   "execution_count": 178,
   "metadata": {},
   "outputs": [],
   "source": [
    "new_df = pd.DataFrame(input)\n",
    "new_df.columns = ['Input']\n",
    "new_df['Output'] = output\n",
    "new_df.shape\n",
    "new_df = new_df.iloc[5000:,:]"
   ]
  },
  {
   "cell_type": "code",
   "execution_count": 180,
   "metadata": {},
   "outputs": [],
   "source": [
    "new_df.to_csv('bart_magical_recipes.csv')"
   ]
  },
  {
   "cell_type": "code",
   "execution_count": null,
   "metadata": {},
   "outputs": [],
   "source": []
  }
 ],
 "metadata": {
  "kernelspec": {
   "display_name": "base",
   "language": "python",
   "name": "python3"
  },
  "language_info": {
   "codemirror_mode": {
    "name": "ipython",
    "version": 3
   },
   "file_extension": ".py",
   "mimetype": "text/x-python",
   "name": "python",
   "nbconvert_exporter": "python",
   "pygments_lexer": "ipython3",
   "version": "3.11.7"
  }
 },
 "nbformat": 4,
 "nbformat_minor": 2
}
